{
 "cells": [
  {
   "cell_type": "code",
   "execution_count": 1,
   "metadata": {},
   "outputs": [],
   "source": [
    "import numpy as np\n",
    "from tensorflow.keras.applications.resnet import ResNet50\n",
    "from tensorflow.keras.models import Sequential\n",
    "from tensorflow.keras.layers import Conv2D, Flatten, Dense, AveragePooling2D\n",
    "from tensorflow.keras.preprocessing.image import ImageDataGenerator\n",
    "from tensorflow.keras.optimizers import Adam\n",
    "\n",
    "\n",
    "def load_train(path):\n",
    "    datagen = ImageDataGenerator(\n",
    "        horizontal_flip=True, vertical_flip=True, rescale=1/255)\n",
    "\n",
    "    train_datagen_flow = datagen.flow_from_directory(\n",
    "        path,\n",
    "        target_size=(150, 150),\n",
    "        batch_size=16,\n",
    "        class_mode='sparse',\n",
    "        seed=12345)\n",
    "\n",
    "    return train_datagen_flow\n",
    "\n",
    "\n",
    "def create_model(input_shape):\n",
    "\n",
    "    model = Sequential()\n",
    "\n",
    "    model.add(\n",
    "        Conv2D(\n",
    "            filters=6,\n",
    "            kernel_size=(3, 3),\n",
    "            activation='relu',\n",
    "            input_shape=(150, 150, 3),\n",
    "        )\n",
    "    )\n",
    "    model.add(AveragePooling2D(pool_size=(2, 2)))\n",
    "    model.add(Flatten())\n",
    "    model.add(Dense(64, activation='relu'))\n",
    "    model.add(Dense(80, activation='softmax'))\n",
    "    optimizer = Adam(lr=0.0001)\n",
    "    model.compile(optimizer=optimizer,\n",
    "                  loss='sparse_categorical_crossentropy', metrics=['acc']\n",
    "                  )\n",
    "\n",
    "    return model\n",
    "\n",
    "\n",
    "def train_model(\n",
    "    model,\n",
    "    train_data,\n",
    "    test_data,\n",
    "    batch_size=None,\n",
    "    epochs=10,\n",
    "    steps_per_epoch=None,\n",
    "    validation_steps=None,\n",
    "):\n",
    "\n",
    "    model.fit(\n",
    "        train_data,\n",
    "        validation_data=test_data,\n",
    "        epochs=epochs,\n",
    "        verbose=2,\n",
    "        #steps_per_epoch=7,\n",
    "        batch_size=batch_size,\n",
    "        steps_per_epoch=steps_per_epoch,\n",
    "        validation_steps=validation_steps,\n",
    "    )\n",
    "\n",
    "    return model"
   ]
  },
  {
   "cell_type": "code",
   "execution_count": null,
   "metadata": {},
   "outputs": [],
   "source": []
  }
 ],
 "metadata": {
  "ExecuteTimeLog": [
   {
    "duration": 5213,
    "start_time": "2021-12-10T07:08:34.904Z"
   },
   {
    "duration": 13,
    "start_time": "2021-12-10T08:04:48.972Z"
   },
   {
    "duration": 5113,
    "start_time": "2021-12-10T08:04:59.433Z"
   },
   {
    "duration": 5177,
    "start_time": "2021-12-10T09:20:55.566Z"
   },
   {
    "duration": 5310,
    "start_time": "2021-12-10T09:42:33.331Z"
   },
   {
    "duration": 14,
    "start_time": "2021-12-10T10:21:28.991Z"
   },
   {
    "duration": 5457,
    "start_time": "2021-12-10T10:27:29.914Z"
   },
   {
    "duration": 5345,
    "start_time": "2021-12-10T10:29:41.600Z"
   },
   {
    "duration": 5514,
    "start_time": "2021-12-10T13:20:44.938Z"
   },
   {
    "duration": 5033,
    "start_time": "2021-12-10T13:50:11.113Z"
   }
  ],
  "kernelspec": {
   "display_name": "Python 3",
   "language": "python",
   "name": "python3"
  },
  "language_info": {
   "codemirror_mode": {
    "name": "ipython",
    "version": 3
   },
   "file_extension": ".py",
   "mimetype": "text/x-python",
   "name": "python",
   "nbconvert_exporter": "python",
   "pygments_lexer": "ipython3",
   "version": "3.7.8"
  },
  "toc": {
   "base_numbering": 1,
   "nav_menu": {},
   "number_sections": true,
   "sideBar": true,
   "skip_h1_title": true,
   "title_cell": "Table of Contents",
   "title_sidebar": "Contents",
   "toc_cell": false,
   "toc_position": {},
   "toc_section_display": true,
   "toc_window_display": false
  }
 },
 "nbformat": 4,
 "nbformat_minor": 2
}
